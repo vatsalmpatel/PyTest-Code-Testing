{
 "cells": [
  {
   "cell_type": "code",
   "execution_count": 7,
   "metadata": {},
   "outputs": [
    {
     "data": {
      "text/plain": [
       "'d:\\\\ML\\\\Seen Finance Data Engineer Test\\\\examples\\\\dev'"
      ]
     },
     "execution_count": 7,
     "metadata": {},
     "output_type": "execute_result"
    }
   ],
   "source": [
    "import yaml\n",
    "import os\n",
    "os.getcwd()"
   ]
  },
  {
   "cell_type": "code",
   "execution_count": 35,
   "metadata": {},
   "outputs": [],
   "source": [
    "with open(\"../config/sample1.yaml\",'r') as file:\n",
    "    data = yaml.safe_load(file)"
   ]
  },
  {
   "cell_type": "code",
   "execution_count": 36,
   "metadata": {},
   "outputs": [],
   "source": [
    "# with open(\"../config/sample3.yaml\",'r') as file:\n",
    "#    for doc in yaml.safe_load_all(file):\n",
    "#       print(doc)\n",
    "#       print('*' * 25)"
   ]
  },
  {
   "cell_type": "code",
   "execution_count": 37,
   "metadata": {},
   "outputs": [],
   "source": [
    "# with open('sample1.yaml','r') as file:\n",
    "#     data = yaml.safe_load(file)\n"
   ]
  },
  {
   "cell_type": "code",
   "execution_count": 38,
   "metadata": {},
   "outputs": [
    {
     "data": {
      "text/plain": [
       "{'app': {'name': 'MyApp', 'version': '1.0.0', 'debug': True},\n",
       " 'server': {'host': '127.0.0.1', 'port': 8080, 'ssl': False},\n",
       " 'database': {'type': 'postgresql',\n",
       "  'host': 'localhost',\n",
       "  'port': 5432,\n",
       "  'username': 'admin',\n",
       "  'password': 'secret',\n",
       "  'name': 'myapp_db'},\n",
       " 'logging': {'level': 'INFO', 'file': '/var/log/myapp.log'},\n",
       " 'features': {'enable_signup': True, 'enable_notifications': False},\n",
       " 'users': [{'username': 'john_doe',\n",
       "   'email': 'john@example.com',\n",
       "   'roles': ['admin', 'editor']},\n",
       "  {'username': 'jane_smith',\n",
       "   'email': 'jane@example.com',\n",
       "   'roles': ['editor']}]}"
      ]
     },
     "execution_count": 38,
     "metadata": {},
     "output_type": "execute_result"
    }
   ],
   "source": [
    "data"
   ]
  },
  {
   "cell_type": "code",
   "execution_count": 39,
   "metadata": {},
   "outputs": [
    {
     "data": {
      "text/plain": [
       "dict"
      ]
     },
     "execution_count": 39,
     "metadata": {},
     "output_type": "execute_result"
    }
   ],
   "source": [
    "type(data)"
   ]
  },
  {
   "cell_type": "code",
   "execution_count": 40,
   "metadata": {},
   "outputs": [
    {
     "data": {
      "text/plain": [
       "{'username': 'john_doe',\n",
       " 'email': 'john@example.com',\n",
       " 'roles': ['admin', 'editor']}"
      ]
     },
     "execution_count": 40,
     "metadata": {},
     "output_type": "execute_result"
    }
   ],
   "source": [
    "data['users'][0]"
   ]
  },
  {
   "cell_type": "code",
   "execution_count": 41,
   "metadata": {},
   "outputs": [
    {
     "data": {
      "text/plain": [
       "{'username': 'jane_smith', 'email': 'jane@example.com', 'roles': ['editor']}"
      ]
     },
     "execution_count": 41,
     "metadata": {},
     "output_type": "execute_result"
    }
   ],
   "source": [
    "data['users'][1]"
   ]
  },
  {
   "cell_type": "code",
   "execution_count": 42,
   "metadata": {},
   "outputs": [
    {
     "name": "stdout",
     "output_type": "stream",
     "text": [
      "username:  john_doe\n",
      "email:  john@example.com\n",
      "roles:  ['admin', 'editor']\n",
      "*************************\n",
      "username:  jane_smith\n",
      "email:  jane@example.com\n",
      "roles:  ['editor']\n",
      "*************************\n"
     ]
    }
   ],
   "source": [
    "for each_user in data['users']:\n",
    "    # print(each_user)\n",
    "    print('username: ',each_user['username'])\n",
    "    print('email: ',each_user['email'])\n",
    "    print('roles: ',each_user['roles'])\n",
    "    print(\"*\" * 25)"
   ]
  },
  {
   "cell_type": "code",
   "execution_count": 50,
   "metadata": {},
   "outputs": [],
   "source": [
    "with open('../config/sample2.yaml','r') as file:\n",
    "    data = yaml.safe_load(file)"
   ]
  },
  {
   "cell_type": "code",
   "execution_count": 51,
   "metadata": {},
   "outputs": [
    {
     "data": {
      "text/plain": [
       "{'app': {'name': 'MyApp',\n",
       "  'version': '2.3.1',\n",
       "  'description': 'This is a multi-service web application with authentication, \\ncaching, and various environment-specific configurations.\\n',\n",
       "  'allowed_hosts': ['www.myapp.com', 'api.myapp.com', 'localhost'],\n",
       "  'environments': ['development', 'testing', 'production']},\n",
       " 'server': {'development': {'host': 'localhost',\n",
       "   'port': 8000,\n",
       "   'ssl': False,\n",
       "   'workers': 2},\n",
       "  'production': {'host': '0.0.0.0',\n",
       "   'port': 443,\n",
       "   'ssl': True,\n",
       "   'workers': 8,\n",
       "   'cert_path': '/etc/ssl/myapp_cert.pem',\n",
       "   'key_path': '/etc/ssl/myapp_key.pem'}},\n",
       " 'database': {'default': {'type': 'postgresql',\n",
       "   'port': 5432,\n",
       "   'username': 'admin',\n",
       "   'password': 'supersecret',\n",
       "   'options': {'sslmode': 'require', 'timeout': '30s'}},\n",
       "  'development': {'type': 'postgresql',\n",
       "   'port': 5432,\n",
       "   'username': 'admin',\n",
       "   'password': 'supersecret',\n",
       "   'options': {'sslmode': 'require', 'timeout': '30s'},\n",
       "   'host': 'localhost',\n",
       "   'name': 'myapp_dev_db'},\n",
       "  'production': {'type': 'postgresql',\n",
       "   'port': 5432,\n",
       "   'username': 'admin',\n",
       "   'password': 'supersecret',\n",
       "   'options': {'sslmode': 'require', 'timeout': '30s'},\n",
       "   'host': 'db.myapp.com',\n",
       "   'name': 'myapp_prod_db'}},\n",
       " 'authentication': {'jwt_secret': 'super_secure_jwt_key',\n",
       "  'token_expiration_minutes': 60,\n",
       "  'refresh_token_expiration_days': 7,\n",
       "  'allowed_providers': ['google', 'facebook', 'github'],\n",
       "  'oauth2_providers': {'google': {'client_id': 'google-client-id',\n",
       "    'client_secret': 'google-client-secret'},\n",
       "   'facebook': {'client_id': 'facebook-client-id',\n",
       "    'client_secret': 'facebook-client-secret'}}},\n",
       " 'caching': {'enabled': True,\n",
       "  'type': 'redis',\n",
       "  'development': {'host': 'localhost', 'port': 6379, 'ttl_seconds': 600},\n",
       "  'production': {'host': 'cache.myapp.com',\n",
       "   'port': 6379,\n",
       "   'ttl_seconds': 3600}},\n",
       " 'logging': {'version': 1,\n",
       "  'formatters': {'simple': {'format': '%(levelname)s %(message)s'},\n",
       "   'detailed': {'format': '%(asctime)s %(levelname)s [%(name)s] %(message)s'}},\n",
       "  'handlers': {'console': {'class': 'logging.StreamHandler',\n",
       "    'formatter': 'simple'},\n",
       "   'file': {'class': 'logging.FileHandler',\n",
       "    'formatter': 'detailed',\n",
       "    'filename': '/var/log/myapp.log',\n",
       "    'level': 'DEBUG'}},\n",
       "  'root': {'level': 'INFO', 'handlers': ['console', 'file']}},\n",
       " 'security': {'enable_cors': True,\n",
       "  'allowed_origins': ['https://www.myapp.com', 'https://admin.myapp.com'],\n",
       "  'rate_limiting': {'requests_per_minute': 100, 'burst_size': 200}},\n",
       " 'monitoring': {'enabled': True,\n",
       "  'services': [{'type': 'prometheus', 'endpoint': '/metrics'},\n",
       "   {'type': 'datadog', 'api_key': 'datadog-api-key'}]},\n",
       " 'microservices': {'user_service': {'url': 'https://userservice.myapp.com',\n",
       "   'timeout_seconds': 10,\n",
       "   'retries': 3},\n",
       "  'order_service': {'url': 'https://orderservice.myapp.com',\n",
       "   'timeout_seconds': 15,\n",
       "   'retries': 5}},\n",
       " 'admins': [{'username': 'alice_admin',\n",
       "   'email': 'alice@myapp.com',\n",
       "   'roles': ['superuser', 'admin']},\n",
       "  {'username': 'bob_manager', 'email': 'bob@myapp.com', 'roles': ['manager']}]}"
      ]
     },
     "execution_count": 51,
     "metadata": {},
     "output_type": "execute_result"
    }
   ],
   "source": [
    "data"
   ]
  },
  {
   "cell_type": "code",
   "execution_count": 52,
   "metadata": {},
   "outputs": [
    {
     "data": {
      "text/plain": [
       "'MyApp'"
      ]
     },
     "execution_count": 52,
     "metadata": {},
     "output_type": "execute_result"
    }
   ],
   "source": [
    "data['app']['name']"
   ]
  },
  {
   "cell_type": "code",
   "execution_count": 53,
   "metadata": {},
   "outputs": [
    {
     "data": {
      "text/plain": [
       "'2.3.1'"
      ]
     },
     "execution_count": 53,
     "metadata": {},
     "output_type": "execute_result"
    }
   ],
   "source": [
    "data['app']['version']"
   ]
  },
  {
   "cell_type": "code",
   "execution_count": 54,
   "metadata": {},
   "outputs": [
    {
     "data": {
      "text/plain": [
       "'This is a multi-service web application with authentication, \\ncaching, and various environment-specific configurations.\\n'"
      ]
     },
     "execution_count": 54,
     "metadata": {},
     "output_type": "execute_result"
    }
   ],
   "source": [
    "data['app']['description']"
   ]
  },
  {
   "cell_type": "code",
   "execution_count": 55,
   "metadata": {},
   "outputs": [
    {
     "data": {
      "text/plain": [
       "'www.myapp.com'"
      ]
     },
     "execution_count": 55,
     "metadata": {},
     "output_type": "execute_result"
    }
   ],
   "source": [
    "data['app']['allowed_hosts'][0]"
   ]
  },
  {
   "cell_type": "code",
   "execution_count": 56,
   "metadata": {},
   "outputs": [
    {
     "data": {
      "text/plain": [
       "'api.myapp.com'"
      ]
     },
     "execution_count": 56,
     "metadata": {},
     "output_type": "execute_result"
    }
   ],
   "source": [
    "data['app']['allowed_hosts'][1]"
   ]
  },
  {
   "cell_type": "code",
   "execution_count": 57,
   "metadata": {},
   "outputs": [
    {
     "data": {
      "text/plain": [
       "'localhost'"
      ]
     },
     "execution_count": 57,
     "metadata": {},
     "output_type": "execute_result"
    }
   ],
   "source": [
    "data['app']['allowed_hosts'][2]"
   ]
  },
  {
   "cell_type": "code",
   "execution_count": 58,
   "metadata": {},
   "outputs": [
    {
     "data": {
      "text/plain": [
       "'development'"
      ]
     },
     "execution_count": 58,
     "metadata": {},
     "output_type": "execute_result"
    }
   ],
   "source": [
    "data['app']['environments'][0]"
   ]
  },
  {
   "cell_type": "code",
   "execution_count": 59,
   "metadata": {},
   "outputs": [
    {
     "data": {
      "text/plain": [
       "'testing'"
      ]
     },
     "execution_count": 59,
     "metadata": {},
     "output_type": "execute_result"
    }
   ],
   "source": [
    "data['app']['environments'][1]"
   ]
  },
  {
   "cell_type": "code",
   "execution_count": 60,
   "metadata": {},
   "outputs": [
    {
     "data": {
      "text/plain": [
       "'production'"
      ]
     },
     "execution_count": 60,
     "metadata": {},
     "output_type": "execute_result"
    }
   ],
   "source": [
    "data['app']['environments'][2]"
   ]
  },
  {
   "cell_type": "code",
   "execution_count": 61,
   "metadata": {},
   "outputs": [
    {
     "data": {
      "text/plain": [
       "{'development': {'host': 'localhost',\n",
       "  'port': 8000,\n",
       "  'ssl': False,\n",
       "  'workers': 2},\n",
       " 'production': {'host': '0.0.0.0',\n",
       "  'port': 443,\n",
       "  'ssl': True,\n",
       "  'workers': 8,\n",
       "  'cert_path': '/etc/ssl/myapp_cert.pem',\n",
       "  'key_path': '/etc/ssl/myapp_key.pem'}}"
      ]
     },
     "execution_count": 61,
     "metadata": {},
     "output_type": "execute_result"
    }
   ],
   "source": [
    "data['server']"
   ]
  },
  {
   "cell_type": "code",
   "execution_count": 62,
   "metadata": {},
   "outputs": [
    {
     "data": {
      "text/plain": [
       "'localhost'"
      ]
     },
     "execution_count": 62,
     "metadata": {},
     "output_type": "execute_result"
    }
   ],
   "source": [
    "data['server']['development']['host']"
   ]
  },
  {
   "cell_type": "code",
   "execution_count": 63,
   "metadata": {},
   "outputs": [
    {
     "data": {
      "text/plain": [
       "8000"
      ]
     },
     "execution_count": 63,
     "metadata": {},
     "output_type": "execute_result"
    }
   ],
   "source": [
    "data['server']['development']['port']"
   ]
  },
  {
   "cell_type": "code",
   "execution_count": 64,
   "metadata": {},
   "outputs": [
    {
     "data": {
      "text/plain": [
       "False"
      ]
     },
     "execution_count": 64,
     "metadata": {},
     "output_type": "execute_result"
    }
   ],
   "source": [
    "data['server']['development']['ssl']"
   ]
  },
  {
   "cell_type": "code",
   "execution_count": 65,
   "metadata": {},
   "outputs": [
    {
     "data": {
      "text/plain": [
       "2"
      ]
     },
     "execution_count": 65,
     "metadata": {},
     "output_type": "execute_result"
    }
   ],
   "source": [
    "data['server']['development']['workers']"
   ]
  },
  {
   "cell_type": "code",
   "execution_count": 66,
   "metadata": {},
   "outputs": [
    {
     "data": {
      "text/plain": [
       "'0.0.0.0'"
      ]
     },
     "execution_count": 66,
     "metadata": {},
     "output_type": "execute_result"
    }
   ],
   "source": [
    "data['server']['production']['host']"
   ]
  },
  {
   "cell_type": "code",
   "execution_count": 67,
   "metadata": {},
   "outputs": [
    {
     "data": {
      "text/plain": [
       "443"
      ]
     },
     "execution_count": 67,
     "metadata": {},
     "output_type": "execute_result"
    }
   ],
   "source": [
    "data['server']['production']['port']"
   ]
  },
  {
   "cell_type": "code",
   "execution_count": 68,
   "metadata": {},
   "outputs": [
    {
     "data": {
      "text/plain": [
       "True"
      ]
     },
     "execution_count": 68,
     "metadata": {},
     "output_type": "execute_result"
    }
   ],
   "source": [
    "data['server']['production']['ssl']"
   ]
  },
  {
   "cell_type": "code",
   "execution_count": 69,
   "metadata": {},
   "outputs": [
    {
     "data": {
      "text/plain": [
       "8"
      ]
     },
     "execution_count": 69,
     "metadata": {},
     "output_type": "execute_result"
    }
   ],
   "source": [
    "data['server']['production']['workers']"
   ]
  },
  {
   "cell_type": "code",
   "execution_count": 70,
   "metadata": {},
   "outputs": [
    {
     "data": {
      "text/plain": [
       "'/etc/ssl/myapp_cert.pem'"
      ]
     },
     "execution_count": 70,
     "metadata": {},
     "output_type": "execute_result"
    }
   ],
   "source": [
    "data['server']['production']['cert_path']"
   ]
  },
  {
   "cell_type": "code",
   "execution_count": 71,
   "metadata": {},
   "outputs": [
    {
     "data": {
      "text/plain": [
       "'/etc/ssl/myapp_key.pem'"
      ]
     },
     "execution_count": 71,
     "metadata": {},
     "output_type": "execute_result"
    }
   ],
   "source": [
    "data['server']['production']['key_path']"
   ]
  },
  {
   "cell_type": "code",
   "execution_count": 72,
   "metadata": {},
   "outputs": [
    {
     "data": {
      "text/plain": [
       "{'default': {'type': 'postgresql',\n",
       "  'port': 5432,\n",
       "  'username': 'admin',\n",
       "  'password': 'supersecret',\n",
       "  'options': {'sslmode': 'require', 'timeout': '30s'}},\n",
       " 'development': {'type': 'postgresql',\n",
       "  'port': 5432,\n",
       "  'username': 'admin',\n",
       "  'password': 'supersecret',\n",
       "  'options': {'sslmode': 'require', 'timeout': '30s'},\n",
       "  'host': 'localhost',\n",
       "  'name': 'myapp_dev_db'},\n",
       " 'production': {'type': 'postgresql',\n",
       "  'port': 5432,\n",
       "  'username': 'admin',\n",
       "  'password': 'supersecret',\n",
       "  'options': {'sslmode': 'require', 'timeout': '30s'},\n",
       "  'host': 'db.myapp.com',\n",
       "  'name': 'myapp_prod_db'}}"
      ]
     },
     "execution_count": 72,
     "metadata": {},
     "output_type": "execute_result"
    }
   ],
   "source": [
    "data['database']"
   ]
  },
  {
   "cell_type": "code",
   "execution_count": 73,
   "metadata": {},
   "outputs": [
    {
     "data": {
      "text/plain": [
       "{'type': 'postgresql',\n",
       " 'port': 5432,\n",
       " 'username': 'admin',\n",
       " 'password': 'supersecret',\n",
       " 'options': {'sslmode': 'require', 'timeout': '30s'}}"
      ]
     },
     "execution_count": 73,
     "metadata": {},
     "output_type": "execute_result"
    }
   ],
   "source": [
    "data['database']['default']"
   ]
  },
  {
   "cell_type": "code",
   "execution_count": 74,
   "metadata": {},
   "outputs": [
    {
     "data": {
      "text/plain": [
       "{'type': 'postgresql',\n",
       " 'port': 5432,\n",
       " 'username': 'admin',\n",
       " 'password': 'supersecret',\n",
       " 'options': {'sslmode': 'require', 'timeout': '30s'},\n",
       " 'host': 'localhost',\n",
       " 'name': 'myapp_dev_db'}"
      ]
     },
     "execution_count": 74,
     "metadata": {},
     "output_type": "execute_result"
    }
   ],
   "source": [
    "data['database']['development']"
   ]
  },
  {
   "cell_type": "code",
   "execution_count": 75,
   "metadata": {},
   "outputs": [
    {
     "data": {
      "text/plain": [
       "{'type': 'postgresql',\n",
       " 'port': 5432,\n",
       " 'username': 'admin',\n",
       " 'password': 'supersecret',\n",
       " 'options': {'sslmode': 'require', 'timeout': '30s'},\n",
       " 'host': 'db.myapp.com',\n",
       " 'name': 'myapp_prod_db'}"
      ]
     },
     "execution_count": 75,
     "metadata": {},
     "output_type": "execute_result"
    }
   ],
   "source": [
    "data['database']['production']"
   ]
  },
  {
   "cell_type": "code",
   "execution_count": 76,
   "metadata": {},
   "outputs": [
    {
     "data": {
      "text/plain": [
       "{'jwt_secret': 'super_secure_jwt_key',\n",
       " 'token_expiration_minutes': 60,\n",
       " 'refresh_token_expiration_days': 7,\n",
       " 'allowed_providers': ['google', 'facebook', 'github'],\n",
       " 'oauth2_providers': {'google': {'client_id': 'google-client-id',\n",
       "   'client_secret': 'google-client-secret'},\n",
       "  'facebook': {'client_id': 'facebook-client-id',\n",
       "   'client_secret': 'facebook-client-secret'}}}"
      ]
     },
     "execution_count": 76,
     "metadata": {},
     "output_type": "execute_result"
    }
   ],
   "source": [
    "data['authentication']"
   ]
  },
  {
   "cell_type": "code",
   "execution_count": 77,
   "metadata": {},
   "outputs": [
    {
     "data": {
      "text/plain": [
       "{'version': 1,\n",
       " 'formatters': {'simple': {'format': '%(levelname)s %(message)s'},\n",
       "  'detailed': {'format': '%(asctime)s %(levelname)s [%(name)s] %(message)s'}},\n",
       " 'handlers': {'console': {'class': 'logging.StreamHandler',\n",
       "   'formatter': 'simple'},\n",
       "  'file': {'class': 'logging.FileHandler',\n",
       "   'formatter': 'detailed',\n",
       "   'filename': '/var/log/myapp.log',\n",
       "   'level': 'DEBUG'}},\n",
       " 'root': {'level': 'INFO', 'handlers': ['console', 'file']}}"
      ]
     },
     "execution_count": 77,
     "metadata": {},
     "output_type": "execute_result"
    }
   ],
   "source": [
    "data['logging']"
   ]
  }
 ],
 "metadata": {
  "kernelspec": {
   "display_name": "dev_env",
   "language": "python",
   "name": "python3"
  },
  "language_info": {
   "codemirror_mode": {
    "name": "ipython",
    "version": 3
   },
   "file_extension": ".py",
   "mimetype": "text/x-python",
   "name": "python",
   "nbconvert_exporter": "python",
   "pygments_lexer": "ipython3",
   "version": "3.12.5"
  }
 },
 "nbformat": 4,
 "nbformat_minor": 2
}
